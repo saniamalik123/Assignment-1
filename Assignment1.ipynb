{
  "nbformat": 4,
  "nbformat_minor": 0,
  "metadata": {
    "colab": {
      "name": "Assignment1.ipynb",
      "provenance": [],
      "collapsed_sections": []
    },
    "kernelspec": {
      "name": "python3",
      "display_name": "Python 3"
    },
    "language_info": {
      "name": "python"
    }
  },
  "cells": [
    {
      "cell_type": "code",
      "execution_count": null,
      "metadata": {
        "id": "FMz5GApwGEC2",
        "colab": {
          "base_uri": "https://localhost:8080/"
        },
        "outputId": "3bd4577f-0121-4e2d-abbd-e8a3cf4afcf5"
      },
      "outputs": [
        {
          "output_type": "stream",
          "name": "stdout",
          "text": [
            "the n is: 0\n",
            "the reverse number of n will be:  2654\n"
          ]
        }
      ],
      "source": [
        "#Q1: Write a program to reverse an integer in Python.\n",
        "n = 4562\n",
        "reverse_number = 0\n",
        " \n",
        "while(n > 0):\n",
        "    a = n % 10\n",
        "    reverse_number = reverse_number * 10 + a\n",
        "    n = n // 10\n",
        "print(\"the n is:\", n)\n",
        "print(\"the reverse number of n will be: \",reverse_number)"
      ]
    },
    {
      "cell_type": "code",
      "source": [
        "#Q2) Write a program in Python to check whether an integer is Armstrong number or not.\n",
        "\n",
        "num = int(input(\"Enter a number: \"))\n",
        "\n",
        "# initialize sum\n",
        "sum = 0\n",
        "\n",
        "# find the sum of the cube of each digit\n",
        "temp = num\n",
        "while temp > 0:\n",
        "   digit = temp % 10\n",
        "   sum += digit ** 3\n",
        "   temp //= 10\n",
        "\n",
        "# display the result\n",
        "if num == sum:\n",
        "   print(num,\"is an Armstrong number\")\n",
        "else:\n",
        "   print(num,\"is not an Armstrong number\")\n"
      ],
      "metadata": {
        "colab": {
          "base_uri": "https://localhost:8080/"
        },
        "id": "KXqLBzSdetPu",
        "outputId": "f0f3d41f-e44d-4d72-b9df-d2f360e1e49d"
      },
      "execution_count": null,
      "outputs": [
        {
          "output_type": "stream",
          "name": "stdout",
          "text": [
            "Enter a number: 407\n",
            "407 is an Armstrong number\n"
          ]
        }
      ]
    },
    {
      "cell_type": "code",
      "source": [
        "#Q3) Write a program in Python to check given number is prime or not.\n",
        "\n",
        "num = 11\n",
        "  \n",
        "# If given number is greater than 1\n",
        "if num > 1:\n",
        "  \n",
        "    # Iterate from 2 to n / 2\n",
        "    for i in range(2, int(num/2)+1):\n",
        "  \n",
        "        # If num is divisible by any number between\n",
        "        # 2 and n / 2, it is not prime\n",
        "        if (num % i) == 0:\n",
        "            print(num, \"is not a prime number\")\n",
        "            break\n",
        "    else:\n",
        "        print(num, \"is a prime number\")\n",
        "  \n",
        "else:\n",
        "    print(num, \"is not a prime number\")"
      ],
      "metadata": {
        "colab": {
          "base_uri": "https://localhost:8080/"
        },
        "id": "bY5t9w2jgUbo",
        "outputId": "8e26742d-e5b6-4c67-9b9a-985332aeae6d"
      },
      "execution_count": null,
      "outputs": [
        {
          "output_type": "stream",
          "name": "stdout",
          "text": [
            "11 is a prime number\n"
          ]
        }
      ]
    },
    {
      "cell_type": "code",
      "source": [
        "#Q4) Write a program in Python to print the Fibonacci series using iterative method.\n",
        "\n",
        "first,second=0,1\n",
        "n = int(input(\"please give a number for fibonacci series : \"))\n",
        "print(\"fibonacci series are : \")\n",
        "for i in range(0,n):\n",
        "    if i<=1:\n",
        "        result=i\n",
        "    else:\n",
        "      result = first + second;\n",
        "      first = second;\n",
        "      second = result;\n",
        "    print(result)\n",
        " "
      ],
      "metadata": {
        "colab": {
          "base_uri": "https://localhost:8080/"
        },
        "id": "WTEosGdFY4dj",
        "outputId": "54d9a0c7-f469-4fa7-ae2d-db2af249f5a9"
      },
      "execution_count": null,
      "outputs": [
        {
          "output_type": "stream",
          "name": "stdout",
          "text": [
            "please give a number for fibonacci series : 4\n",
            "fibonacci series are : \n",
            "0\n",
            "1\n",
            "1\n",
            "2\n"
          ]
        }
      ]
    },
    {
      "cell_type": "code",
      "source": [
        "#Q5) Write a program in Python to check whether a number is palindrome or not using iterative method.\n",
        "n = int(input(\"please give a number : \"))\n",
        "reverse,temp = 0,n\n",
        "while temp!=0:\n",
        "    reverse = reverse*10 + temp%10;        \n",
        "    temp=temp//10;\n",
        "if reverse==n:\n",
        "    print(\"\\nnumber is palindrom\")\n",
        "else:\n",
        "    print(\"\\nnumber is not palindrom\")\n",
        " "
      ],
      "metadata": {
        "colab": {
          "base_uri": "https://localhost:8080/"
        },
        "id": "IQCxq2CNcHzx",
        "outputId": "3b922330-a5f3-46a6-b4c7-744fa4c34827"
      },
      "execution_count": null,
      "outputs": [
        {
          "output_type": "stream",
          "name": "stdout",
          "text": [
            "please give a number : 5885\n",
            "\n",
            "number is palindrom\n"
          ]
        }
      ]
    },
    {
      "cell_type": "code",
      "source": [
        "# Q6) Write a program in Python to find greatest among three integers.\n",
        "number_1=567\n",
        "number_2=967\n",
        "number_3=667\n",
        "\n",
        "if number_1 >= number_2 and number_3:\n",
        "  print(number_1)\n",
        "elif number_2 >= number_1 and number_3:\n",
        "  print(number_2)\n",
        "elif number_3 >= number_1 and number_2:\n",
        "  print(number_3)"
      ],
      "metadata": {
        "colab": {
          "base_uri": "https://localhost:8080/"
        },
        "id": "9kdoAqqFIwhJ",
        "outputId": "f55cf92b-e499-43fc-a168-07f3ca66c38e"
      },
      "execution_count": null,
      "outputs": [
        {
          "output_type": "stream",
          "name": "stdout",
          "text": [
            "967\n"
          ]
        }
      ]
    },
    {
      "cell_type": "code",
      "source": [
        "#q7: Write a program in Python to check if a number is binary?\n",
        "binary_1=0\n",
        "binary_2=1\n",
        "\n",
        "number= int(input(\"enter a binary number, number should be 0 or 1\"))\n",
        "if number == binary_1 or binary_2:\n",
        "  print(\"your entered binary number is: \",number)\n",
        "else:\n",
        "  print(\"your entered binary number is: \",number)\n",
        "\n"
      ],
      "metadata": {
        "colab": {
          "base_uri": "https://localhost:8080/"
        },
        "id": "Lx_hKqkkRWbA",
        "outputId": "53230322-451f-49a2-de33-4d333f4234f7"
      },
      "execution_count": null,
      "outputs": [
        {
          "output_type": "stream",
          "name": "stdout",
          "text": [
            "enter a binary number, number should be 0 or 11\n",
            "your entered binary number is:  1\n"
          ]
        }
      ]
    },
    {
      "cell_type": "code",
      "source": [
        "#q8: Write a program in Python to find sum of digits.\n",
        "sum_num_1=int(input(\"enter 1st number:\"))\n",
        "sum_num_2=int(input(\"enter 2nd number:\"))\n",
        "sum_num_3=int(input(\"enter 3rd number:\"))\n",
        "\n",
        "sum_of_num=(sum_num_1+sum_num_2+sum_num_3)\n",
        "\n",
        "print(\"the sum of numbers will be: \",sum_of_num)\n",
        "\n"
      ],
      "metadata": {
        "colab": {
          "base_uri": "https://localhost:8080/"
        },
        "id": "dNoce63bTFfx",
        "outputId": "770d9fdc-4869-4707-96f4-742a2aad66e2"
      },
      "execution_count": null,
      "outputs": [
        {
          "output_type": "stream",
          "name": "stdout",
          "text": [
            "enter 1st number:34\n",
            "enter 2nd number:56\n",
            "enter 3rd number:67\n",
            "the sum of numbers will be:  157\n"
          ]
        }
      ]
    },
    {
      "cell_type": "code",
      "source": [
        "#Q9) Write a program in Python to swap two numbers without using third variable?\n",
        "num_1=67\n",
        "num_2=78\n",
        "\n",
        "num_1,num_2=num_2,num_1\n",
        "\n",
        "print(\"the values without using third variable will be: \",num_1)\n",
        "print(\"\\nthe values without using third variable will be: \",num_2)"
      ],
      "metadata": {
        "colab": {
          "base_uri": "https://localhost:8080/"
        },
        "id": "6RdXLwkmhA3Q",
        "outputId": "ab5bd4b9-754e-4bfb-9a30-6d84dbdded34"
      },
      "execution_count": null,
      "outputs": [
        {
          "output_type": "stream",
          "name": "stdout",
          "text": [
            "the values without using third variable will be:  78\n",
            "\n",
            "the values without using third variable will be:  67\n"
          ]
        }
      ]
    },
    {
      "cell_type": "code",
      "source": [
        "#Q10) Write a program in Python to swap two numbers using third variable?\n",
        "var_1=34\n",
        "var_2=45\n",
        "\n",
        "var_3=var_2\n",
        "var_2=var_1\n",
        "var_1=var_3\n",
        "\n",
        "print(\"the swap value of var_1 using third variable will be: \", var_1)\n",
        "print(\"the swap value of var_2 using third variable will be: \", var_2)\n"
      ],
      "metadata": {
        "colab": {
          "base_uri": "https://localhost:8080/"
        },
        "id": "bac5c8FXcjXg",
        "outputId": "6a10301e-b0fa-4236-978c-4ed6cebe2cd6"
      },
      "execution_count": null,
      "outputs": [
        {
          "output_type": "stream",
          "name": "stdout",
          "text": [
            "the swap value of var_1 using third variable will be:  45\n",
            "the swap value of var_2 using third variable will be:  34\n"
          ]
        }
      ]
    },
    {
      "cell_type": "code",
      "source": [
        "#Q11) Python Program to find the Average of numbers.\n",
        "total_courses_you_enroll_in=5\n",
        "\n",
        "course_0_marks=45\n",
        "course_1_marks=85\n",
        "course_2_marks=90\n",
        "course_3_marks=89\n",
        "course_4_marks=90\n",
        "\n",
        "sum = course_0_marks + course_1_marks + course_2_marks + course_3_marks + course_4_marks\n",
        "print(\"\\nthe sum of numbers is: \",sum)\n",
        "\n",
        "finding_average= sum / total_courses_you_enroll_in\n",
        "print(\"\\nthe sum of numbers is: \",finding_average)"
      ],
      "metadata": {
        "colab": {
          "base_uri": "https://localhost:8080/"
        },
        "id": "Zm5tiE_3VvBR",
        "outputId": "66ece9c2-0016-41fc-cada-987340061ff1"
      },
      "execution_count": null,
      "outputs": [
        {
          "output_type": "stream",
          "name": "stdout",
          "text": [
            "\n",
            "the sum of numbers is:  399\n",
            "\n",
            "the sum of numbers is:  79.8\n"
          ]
        }
      ]
    },
    {
      "cell_type": "code",
      "source": [
        "#Q12) Python Program to calculate factorial using iterative method.\n",
        "\n",
        "def get_factorial_while_loop(n):\n",
        "    result = 1\n",
        "    while n > 1:\n",
        "        result = result * n\n",
        "        n -= 1\n",
        "    print(\"the factorial of a number using iterative method will be: \",result)\n",
        "\n",
        "inp = input(\"Enter a number: \")\n",
        "inp = int(inp)\n",
        "get_factorial_while_loop(inp)"
      ],
      "metadata": {
        "colab": {
          "base_uri": "https://localhost:8080/"
        },
        "id": "_xzdLROFZtIc",
        "outputId": "e72245cf-a92d-465d-9196-f2d90114157a"
      },
      "execution_count": null,
      "outputs": [
        {
          "output_type": "stream",
          "name": "stdout",
          "text": [
            "Enter a number: 4\n",
            "the factorial of a number using iterative method will be:  24\n"
          ]
        }
      ]
    },
    {
      "cell_type": "code",
      "source": [
        "#Q13) Python Program to calculate factorial.\n",
        "factorial_number= int(input(\"enter number to find a factorial: \"))\n",
        "\n",
        "num_1=1\n",
        "for num in range(1, factorial_number+1):\n",
        " num_1*=num\n",
        "print(\"\\nthe factorial of\",factorial_number,\"is: \",num_1)"
      ],
      "metadata": {
        "id": "wdATUjcHdV25",
        "colab": {
          "base_uri": "https://localhost:8080/"
        },
        "outputId": "01ef4033-ca72-4ec8-865e-77699bbff921"
      },
      "execution_count": null,
      "outputs": [
        {
          "output_type": "stream",
          "name": "stdout",
          "text": [
            "enter number to find a factorial: 7\n",
            "\n",
            "the factorial of 7 is:  5040\n"
          ]
        }
      ]
    },
    {
      "cell_type": "code",
      "source": [
        "# Q14) Python Program to check a given number is even or odd.\n",
        "\n",
        "number=int(input(\"enter a number\"))\n",
        "\n",
        "if number%2==0:\n",
        "  print(\"the number is even: \", number)\n",
        "else:\n",
        "  print(\"the number is odd: \", number)"
      ],
      "metadata": {
        "colab": {
          "base_uri": "https://localhost:8080/"
        },
        "id": "oBp_NCPvbYEx",
        "outputId": "23b72722-cccd-417c-ea95-2f5055f7c8e1"
      },
      "execution_count": null,
      "outputs": [
        {
          "output_type": "stream",
          "name": "stdout",
          "text": [
            "enter a number45\n",
            "the number is odd:  45\n"
          ]
        }
      ]
    },
    {
      "cell_type": "code",
      "source": [
        "# Q15) Python program to print first n Prime Number.\n",
        "def isPrime(n):\n",
        "  #since 0 and 1 is not prime return false.\n",
        "  if(n==1 or n==0):\n",
        "    return False\n",
        "   \n",
        "  #Run a loop from 2 to n-1\n",
        "  for i in range(2,n):\n",
        "    #if the number is divisible by i, then n is not a prime number.\n",
        "    if(n%i==0):\n",
        "      return False\n",
        "   \n",
        "  #otherwise, n is prime number.\n",
        "  return True\n",
        " \n",
        "N = 100;\n",
        "#check for every number from 1 to N\n",
        "for i in range(1,N+1):\n",
        "  #check if current number is prime\n",
        "  if(isPrime(i)):\n",
        "    print(i,end=\" \")\n"
      ],
      "metadata": {
        "colab": {
          "base_uri": "https://localhost:8080/"
        },
        "id": "0Kn05pjPb8ep",
        "outputId": "176d72f3-bfcc-44e4-9112-06c34a718916"
      },
      "execution_count": null,
      "outputs": [
        {
          "output_type": "stream",
          "name": "stdout",
          "text": [
            "2 3 5 7 11 13 17 19 23 29 31 37 41 43 47 53 59 61 67 71 73 79 83 89 97 "
          ]
        }
      ]
    },
    {
      "cell_type": "code",
      "source": [
        "#Q16) Python Program to print Prime Number in a given range.\n",
        "lower = 600\n",
        "upper = 700\n",
        "\n",
        "print(\"Prime numbers between\", lower, \"and\", upper, \"are:\")\n",
        "\n",
        "for num in range(lower, upper + 1):\n",
        "   # all prime numbers are greater than 1\n",
        "   if num > 1:\n",
        "       for i in range(2, num):\n",
        "           if (num % i) == 0:\n",
        "               break\n",
        "       else:\n",
        "           print(num)"
      ],
      "metadata": {
        "colab": {
          "base_uri": "https://localhost:8080/"
        },
        "id": "Yx5TONCbdjur",
        "outputId": "685aa4b1-abfb-47de-9c07-c6b1c71267ee"
      },
      "execution_count": null,
      "outputs": [
        {
          "output_type": "stream",
          "name": "stdout",
          "text": [
            "Prime numbers between 600 and 700 are:\n",
            "601\n",
            "607\n",
            "613\n",
            "617\n",
            "619\n",
            "631\n",
            "641\n",
            "643\n",
            "647\n",
            "653\n",
            "659\n",
            "661\n",
            "673\n",
            "677\n",
            "683\n",
            "691\n"
          ]
        }
      ]
    },
    {
      "cell_type": "code",
      "source": [
        "#Q17) Python Program to find Smallest number among three.\n",
        "\n",
        "num_1=[45,89,18]\n",
        "for smallest_num in range(3):\n",
        "  if num_1[smallest_num] == num_1[2]:\n",
        "    print(\"the smallest among three is: \",num_1[smallest_num] )  \n",
        "\n"
      ],
      "metadata": {
        "colab": {
          "base_uri": "https://localhost:8080/"
        },
        "id": "4wh3Ie9FTPJR",
        "outputId": "8c14caa6-1dae-4ce6-e308-d20a1fb9d67e"
      },
      "execution_count": null,
      "outputs": [
        {
          "output_type": "stream",
          "name": "stdout",
          "text": [
            "the smallest among three is:  18\n"
          ]
        }
      ]
    },
    {
      "cell_type": "code",
      "source": [
        "#Q18) Python program to calculate the power using the POW method.\n",
        "\n",
        "power_value=4\n",
        "\n",
        "print(\"using power method the value will be: \", pow(power_value,2))"
      ],
      "metadata": {
        "colab": {
          "base_uri": "https://localhost:8080/"
        },
        "id": "l1DirkZjhqsc",
        "outputId": "c32cfb0c-0f96-473e-c459-1303bc8a7d15"
      },
      "execution_count": null,
      "outputs": [
        {
          "output_type": "stream",
          "name": "stdout",
          "text": [
            "using power method the value will be:  16\n"
          ]
        }
      ]
    },
    {
      "cell_type": "code",
      "source": [
        "#Q19) Python Program to calculate the square of a given number.\n",
        "value_1=int(input(\"enter value to find its square: \"))\n",
        "square= value_1 * value_1\n",
        "print(\"\\nthe square value of a number will be: \", square)"
      ],
      "metadata": {
        "colab": {
          "base_uri": "https://localhost:8080/"
        },
        "id": "hmMC2yv3hq6V",
        "outputId": "826e2f9e-749c-4d37-ad8d-e90b6b18fe4c"
      },
      "execution_count": null,
      "outputs": [
        {
          "output_type": "stream",
          "name": "stdout",
          "text": [
            "enter value to find its square: 8\n",
            "\n",
            "the square value of a number will be:  64\n"
          ]
        }
      ]
    },
    {
      "cell_type": "code",
      "source": [
        "#Q20) Python Program to calculate the cube of a given number\n",
        "\n",
        "value_1=int(input(\"enter value to find its square: \"))\n",
        "cube = value_1 * value_1 * value_1\n",
        "print(\"\\nthe square value of a number will be: \",  cube)"
      ],
      "metadata": {
        "colab": {
          "base_uri": "https://localhost:8080/"
        },
        "id": "tvbeX9nXhrCV",
        "outputId": "9913ca5c-29e8-4d37-ee04-6eb659168d49"
      },
      "execution_count": null,
      "outputs": [
        {
          "output_type": "stream",
          "name": "stdout",
          "text": [
            "enter value to find its square: 3\n",
            "\n",
            "the square value of a number will be:  27\n"
          ]
        }
      ]
    },
    {
      "cell_type": "code",
      "source": [
        "#Q21) Python Program to calculate the square root of a given number.\n",
        "\n",
        "import math\n",
        "number=int(input((\"enter a number to find its square root: \")))\n",
        "print(\"\\nthe square root of a number will be: \",math.sqrt(number))"
      ],
      "metadata": {
        "colab": {
          "base_uri": "https://localhost:8080/"
        },
        "id": "b-rVcyPxhrJ7",
        "outputId": "ab32ecfe-fc58-4cc2-9430-c6b004121fcc"
      },
      "execution_count": null,
      "outputs": [
        {
          "output_type": "stream",
          "name": "stdout",
          "text": [
            "enter a number to find its square root: 4\n",
            "\n",
            "the square root of a number will be:  2.0\n"
          ]
        }
      ]
    },
    {
      "cell_type": "code",
      "source": [
        "#Q22) Python Program to Convert Decimal Number into Binary.\n",
        "\n",
        "dec=90\n",
        "print(bin(dec), \"in binary.\")\n"
      ],
      "metadata": {
        "colab": {
          "base_uri": "https://localhost:8080/"
        },
        "id": "YRyGC44-hrOO",
        "outputId": "6876c8c0-c4aa-4c73-a437-15a0d1a2d2ff"
      },
      "execution_count": null,
      "outputs": [
        {
          "output_type": "stream",
          "name": "stdout",
          "text": [
            "0b1011010 in binary.\n"
          ]
        }
      ]
    },
    {
      "cell_type": "code",
      "source": [
        "#Q23) Python Program to convert Decimal number to Octal number.\n",
        "\n",
        "dec=89\n",
        "print(oct(dec), \"in octal.\")"
      ],
      "metadata": {
        "colab": {
          "base_uri": "https://localhost:8080/"
        },
        "id": "JrWxFSlVhrSZ",
        "outputId": "307d0878-7cbd-4424-c34e-b817855b04cb"
      },
      "execution_count": null,
      "outputs": [
        {
          "output_type": "stream",
          "name": "stdout",
          "text": [
            "0o131 in octal.\n"
          ]
        }
      ]
    },
    {
      "cell_type": "code",
      "source": [
        "#Q24) Python Program to check the given year is a leap year or not.\n",
        "\n",
        "year=int(input(\"Enter year to be checked:\"))\n",
        "if(year%4==0 and year%100!=0 or year%400==0):\n",
        " print(\"The year is a leap year!\")\n",
        "else:\n",
        " print(\"The year isn't a leap year!\")"
      ],
      "metadata": {
        "colab": {
          "base_uri": "https://localhost:8080/"
        },
        "id": "Lm02QXiThrWv",
        "outputId": "708ea95b-a59c-4fc1-d8af-438fb656693a"
      },
      "execution_count": null,
      "outputs": [
        {
          "output_type": "stream",
          "name": "stdout",
          "text": [
            "Enter year to be checked:2020\n",
            "The year is a leap year!\n"
          ]
        }
      ]
    },
    {
      "cell_type": "code",
      "source": [
        "#Q25) Python Program to convert Celsius to Fahrenheit.\n",
        "\n",
        "celsius=int(input(\"enter celsius: \"))\n",
        "\n",
        "fahrenheit = (celsius * 1.8) + 32\n",
        "print(\"\\nconvert celsius into fahrenheit will be: \",fahrenheit)"
      ],
      "metadata": {
        "colab": {
          "base_uri": "https://localhost:8080/"
        },
        "id": "l7yfYBJahrb_",
        "outputId": "713e09cc-a931-4663-bd2c-eabefeba7d16"
      },
      "execution_count": null,
      "outputs": [
        {
          "output_type": "stream",
          "name": "stdout",
          "text": [
            "enter celsius: 56\n",
            "\n",
            "convert celsius into fahrenheit will be:  132.8\n"
          ]
        }
      ]
    },
    {
      "cell_type": "code",
      "source": [
        "#Q26) Python Program to convert Fahrenheit to Celsius.\n",
        "\n",
        "fahrenheit=int(input(\"enter fahrenheit: \"))\n",
        "celsius = (fahrenheit - 32) / 1.8\n",
        "print(\"\\nconvert fahrenheit into celsius will be: \",celsius)"
      ],
      "metadata": {
        "colab": {
          "base_uri": "https://localhost:8080/"
        },
        "id": "wUJdT9fuhrfv",
        "outputId": "573805c9-4848-4a7c-bf26-37a5c3ea08f0"
      },
      "execution_count": null,
      "outputs": [
        {
          "output_type": "stream",
          "name": "stdout",
          "text": [
            "enter fahrenheit: 89\n",
            "\n",
            "convert fahrenheit into celsius will be:  31.666666666666664\n"
          ]
        }
      ]
    },
    {
      "cell_type": "code",
      "source": [
        ""
      ],
      "metadata": {
        "id": "S0xqDtwghrjv"
      },
      "execution_count": null,
      "outputs": []
    },
    {
      "cell_type": "code",
      "source": [
        ""
      ],
      "metadata": {
        "id": "G9z3Dzdlhrns"
      },
      "execution_count": null,
      "outputs": []
    },
    {
      "cell_type": "code",
      "source": [
        ""
      ],
      "metadata": {
        "id": "CbYWMo_shrq4"
      },
      "execution_count": null,
      "outputs": []
    },
    {
      "cell_type": "code",
      "source": [
        ""
      ],
      "metadata": {
        "id": "OLh8658UhruP"
      },
      "execution_count": null,
      "outputs": []
    }
  ]
}